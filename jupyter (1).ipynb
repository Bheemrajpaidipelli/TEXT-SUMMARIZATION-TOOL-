{
  "cells": [
    {
      "cell_type": "code",
      "source": [
        "from transformers import BartForConditionalGeneration, BartTokenizer\n",
        "import torch\n",
        "import random\n",
        "\n",
        "# Load model and tokenizer\n",
        "model_name = \"facebook/bart-large-cnn\"\n",
        "tokenizer = BartTokenizer.from_pretrained(model_name)\n",
        "model = BartForConditionalGeneration.from_pretrained(model_name)\n",
        "\n",
        "def summarize_with_bart(text):\n",
        "    inputs = tokenizer.encode(text, return_tensors=\"pt\", max_length=1024, truncation=True)\n",
        "    word_count = len(text.split())\n",
        "\n",
        "    # Dynamic summary length\n",
        "    if word_count < 50:\n",
        "        min_len = 15\n",
        "        max_len = 30\n",
        "    elif word_count < 150:\n",
        "        min_len = 30\n",
        "        max_len = 60\n",
        "    elif word_count < 300:\n",
        "        min_len = 50\n",
        "        max_len = 100\n",
        "    else:\n",
        "        min_len = 80\n",
        "        max_len = 130\n",
        "\n",
        "    # Add randomness\n",
        "    min_len += random.randint(-5, 5)\n",
        "    max_len += random.randint(-10, 10)\n",
        "    min_len = max(10, min_len)\n",
        "    max_len = min(150, max_len)\n",
        "\n",
        "    print(f\"\\n  Input length: {word_count} words\")\n",
        "   # print(f\" Generating summary with min_length={min_len}, max_length={max_len}\")\n",
        "\n",
        "    summary_ids = model.generate(\n",
        "        inputs,\n",
        "        num_beams=4,\n",
        "        min_length=min_len,\n",
        "        max_length=max_len,\n",
        "        early_stopping=True\n",
        "    )\n",
        "\n",
        "    return tokenizer.decode(summary_ids[0], skip_special_tokens=True)\n",
        "\n",
        "# ===================== MAIN PROGRAM =======================\n",
        "if __name__ == \"__main__\":\n",
        "    while True:\n",
        "        print(\"Enter the text to summarize (end input with a blank line):\")\n",
        "        input_lines = []\n",
        "        while True:\n",
        "            try:\n",
        "                line = input()\n",
        "                if line.strip() == \"\":\n",
        "                    break\n",
        "                input_lines.append(line)\n",
        "            except EOFError:\n",
        "                break\n",
        "\n",
        "        full_text = \" \".join(input_lines)\n",
        "        word_count = len(full_text.strip().split())\n",
        "\n",
        "        if word_count < 10:\n",
        "            print(\"\\n Input too short. Please enter at least 10 words.\\n\")\n",
        "        else:\n",
        "            summary = summarize_with_bart(full_text)\n",
        "            print(\"\\n Summary:\\n\")\n",
        "            print(summary)\n",
        "            break  #  Exit after successful summary\n"
      ],
      "metadata": {
        "colab": {
          "base_uri": "https://localhost:8080/"
        },
        "id": "ygpjiDDKJ0jI",
        "outputId": "07c1d3c0-743c-48dd-80c4-a3dbef9391fe"
      },
      "id": "ygpjiDDKJ0jI",
      "execution_count": 5,
      "outputs": [
        {
          "output_type": "stream",
          "name": "stdout",
          "text": [
            "Enter the text to summarize (end input with a blank line):\n",
            "ARTICLE FOR INPUT   Tariffs reminded American businesses how much they still rely on Chinese factories.  Now, as more of those factories turn to tech — such as artificial intelligence and robotics — for cost-cutting and quality controls, it’s going to be even harder to resist buying from China. AI’s potential to transform manufacturing was even highlighted by venture capitalist Mary Meeker over the weekend in the first of her widely followed tech trends reports since 2019.  Chinese companies are eager to adopt new technologies, and startup Cybord believes its AI-powered quality control tools will find big buyers in China this year, said CEO Oshri Cohen.  Rather than using generative AI, Cybord applies supervised machine learning to identify flaws based on patterns in its manufacturing component database, Cohen said. These flaws include counterfeit, defective and tampered components. Last month, the startup announced it is being integrated into factory management systems from industrial giant Siemens .  Cohen, who was previously a vice president of supply chain at Nvidia, expects geopolitical pressures to diversify supply chains, making Chinese factories more competitive. “Factories will go back to China,” he said, but in contrast to the past decade, China will then “be a statement of high quality.”  China installed seven times more robots than the U.S. in 2023, accounting for more than half of the industrial robots installed in the world, according to Stanford University, citing a report from the International Federation of Robotics.  Still, automation levels are uneven, with some sectors, such as autos, requiring fewer human workers, while production lines such as apparel, still rely significantly on people running machines by hand.  Beijing has ambitious plans to digitalize the country’s factories further — in the next five years.  China last month released an “action plan” for digital supply chain development by 2030. It called for using AI, blockchain and other technologies in manufacturing and agriculture — including a plan to cultivate 100 digital supply chain leaders.  The country already has a head start.  “When you think about digital transformations and the use of digital analytics of automation in manufacturing, the Chinese companies are a real force in the world,” said Karel Eloot, a Shenzhen-based senior partner at McKinsey.  He pointed out that since the World Economic Forum and McKinsey started tracking factory digitalization in 2018, the number of exemplary use cases has climbed to 189, of which 41% are based in China and spread across multiple industries. They include Chinese appliance maker Midea and the Chinese operations of GE Healthcare, AstraZeneca and Schneider Electric.  The report noted that some companies, such as the Hisense-Hitachi joint venture in Qingdao, China, are utilizing generative AI to reduce time spent on inefficient meetings, instead directing the next shift of workers to immediate issues.  Spillover to global competition Companies are looking for ways to improve productivity, all the way from the supply chain to the consumer, Eloot said, noting there is a growing “gap between the haves and have-nots” in terms of AI manufacturing integration.  “The competitive forces in China are very strong,” he said. “Companies compete with each other in a very ruthless way, I would say.”  The cutthroat nature of that competition was on full display in recent weeks with yet another round of electric car price cuts — largely led by BYD , which already dominates the market and has been aggressively expanding globally.  BYD stated in its 2024 annual report that it has begun deploying autonomous mobile logistics robots for manufacturing. The automaker has also invested in robotics companies.  “Supply chains have become so efficient and so competitive from a cost perspective ... that if you are to compete, you have to be here” in China, Jens Eskelund, president of the EU Chamber of Commerce in China, told reporters last week in Beijing.  He said he’s concerned about China’s plans to potentially double down on self-sufficiency, which would likely prompt a reaction from its main trading partners. “If you still want to have a workable relationship with your main trading partners, you also need to have a commitment to actually trade,” he said.  Rising barriers to entry Other car companies, such as Nio and Geely, have also made  a major focus of their development.  AI applications may even prompt a reorganization of the automotive industry, said Zhou Zipeng, executive general manager at CICC Research Institute. While challenges still exist in data collection and storage, AI is already being used for lithium battery material development and chip manufacturing in China, Zhou said.  On the software side, Chinese tech giant Alibaba announced a strategic partnership with business management system giant SAP last week. The wide-ranging agreement — which initially focuses on China — includes Alibaba Cloud support for SAP’s supply chain management system, and plans to test integrating Alibaba’s Qwen AI model with SAP’s applications in China.  While it’s still early days, generative AI can quickly create a large number of design solutions, shortening the time to a product launch, said Glenn Hou, founding partner of China Insights Consultancy. He added that generative AI can improve the efficiency of equipment maintenance and help businesses absorb technical expertise more quickly.  “Looking ahead to the next year, the integration of AI and manufacturing is expected to accelerate,” Hou said in Chinese, translated by CNBC. He noted how a combination of data, algorithms and use cases has become a new competitive barrier to entry for businesses.\n",
            "\n",
            "\n",
            "  Input length: 898 words\n",
            "\n",
            " Summary:\n",
            "\n",
            "China has ambitious plans to digitalize the country’s factories further. China installed seven times more robots than the U.S. in 2023. China last month released an “action plan” for digital supply chain development by 2030. The number of exemplary use cases has climbed to 189, of which 41% are based in China and spread across multiple industries.\n"
          ]
        }
      ]
    },
    {
      "cell_type": "code",
      "source": [],
      "metadata": {
        "id": "I24xZC_vPKIG"
      },
      "id": "I24xZC_vPKIG",
      "execution_count": 5,
      "outputs": []
    }
  ],
  "metadata": {
    "kernelspec": {
      "display_name": "Python 3",
      "name": "python3"
    },
    "language_info": {
      "name": "python"
    },
    "required_libs": [],
    "colab": {
      "provenance": []
    }
  },
  "nbformat": 4,
  "nbformat_minor": 5
}